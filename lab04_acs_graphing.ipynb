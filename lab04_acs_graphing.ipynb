{
  "cells": [
    {
      "cell_type": "markdown",
      "metadata": {},
      "source": [
        "# Graphical analysis of the American Community Survey\n",
        "\n",
        "\n",
        "The American Community Survey (ACS) is a large survey of households\n",
        "and individuals in the United States, carried out by the US\n",
        "government on a continuous basis (around 3.5 million people are\n",
        "contacted per year).  It is arguably the most authoritative source\n",
        "of information about the demographic composition of the US\n",
        "population, and is used for many purposes in academic research,\n",
        "government, public policy, and in private industry.\n",
        "\n",
        "Some of the questions in the ACS are about sensitive topics, and therefore are only released in aggregate form. The \"public use microsample\" (PUMS) is a set of individual ACS responses that only includes information that has been deemed safe for public release at the individual level. Here we will work with a subset of the ACS/PUMS data.\n",
        "\n",
        "You will need to refer to the documentation to know what the ACS variable names mean: **[ACS PUMS Codebooks](https://www.census.gov/programs-surveys/acs/microdata/documentation/2018.html)** Scroll down for data dictionary 2018 \"1-year\" ACS/PUMS, available in several formats.\n",
        "\n",
        "For this course, we are providing a simplified version of the ACS/PUMS data from 2018. It contains a random subset of the cases and a selected subset of variables.\n",
        "\n",
        "Note that many PUMS variables are described as being \"household\" or \"individual\" variables. These refer to characteristics of households (one or more people living at the same address) or to characteristics of individual people, respectively.\n",
        "\n",
        "As usual we will start by loading our data science libraries."
      ]
    },
    {
      "cell_type": "code",
      "execution_count": 1,
      "metadata": {},
      "outputs": [],
      "source": [
        "import pandas as pd\n",
        "import numpy as np\n",
        "import seaborn as sb\n",
        "import matplotlib.pyplot as plt"
      ]
    },
    {
      "cell_type": "code",
      "execution_count": 2,
      "metadata": {},
      "outputs": [],
      "source": [
        "try:\n",
        "    df = pd.read_csv(\"./pums_short.csv.gz\")\n",
        "except FileNotFoundError:\n",
        "    df = pd.read_csv(\"./labs/lab04/pums_short.csv.gz\")"
      ]
    },
    {
      "cell_type": "markdown",
      "metadata": {},
      "source": [
        "## Getting to know the data\n",
        "\n",
        "\n",
        "As we typically do, find out the size of the data set and what the columns are called."
      ]
    },
    {
      "cell_type": "markdown",
      "metadata": {},
      "source": [
        "<details>\n",
        "\n",
        "```\n",
        "print(df.columns)\n",
        "print(df.shape)\n",
        "```\n",
        "\n",
        "</details>\n",
        "\n",
        "\n",
        "## Discrete Distributions \n",
        "\n",
        "The `value_counts` method is a useful way to summarize the distribution of a discrete variable. For example, did this survey capture the same number of people across each region?"
      ]
    },
    {
      "cell_type": "markdown",
      "metadata": {},
      "source": [
        "<details>\n",
        "\n",
        "```\n",
        "df[\"REGION\"].value_counts().sort_index()\n",
        "```\n",
        "\n",
        "</details>\n",
        "\n",
        "What did you notice about the distribution of survey respondents across regions? \n",
        "\n",
        "Notice here that the regions are numbered 1-4, which corresponds to the Northeast, Midwest, South, and West (respectively). Even though the regions\n",
        "are numbered, the numbers are unimportant, and so it is important to think\n",
        "of this as categorical data, not numeric. "
      ]
    },
    {
      "cell_type": "code",
      "execution_count": 3,
      "metadata": {},
      "outputs": [
        {
          "data": {
            "text/plain": [
              "<Axes: xlabel='REGION', ylabel='count'>"
            ]
          },
          "execution_count": 3,
          "metadata": {},
          "output_type": "execute_result"
        },
        {
          "data": {
            "image/png": "[encoded data removed]",
            "text/plain": [
              "<Figure size 640x480 with 1 Axes>"
            ]
          },
          "metadata": {},
          "output_type": "display_data"
        }
      ],
      "source": [
        "sb.barplot(df[\"REGION\"].value_counts())"
      ]
    },
    {
      "cell_type": "markdown",
      "metadata": {},
      "source": [
        "What about values that are also categorical, but have a distinct order? For example, let's look at the year that a household living structure was built,\n",
        "`YBL`. Find the distribution of the YBL values.\n",
        "\n",
        "Hint: You can use the `sort_index` method to sort the output of the `value_counts` method."
      ]
    },
    {
      "cell_type": "markdown",
      "metadata": {},
      "source": [
        "<details>\n",
        "\n",
        "```\n",
        "df[\"YBL\"].value_counts().sort_index()\n",
        "```\n",
        "\n",
        "</details>\n",
        "\n",
        "But what do these numbers mean? Let's look at the codebook.\n",
        "\n",
        "\n",
        "| Code  | Description     |\n",
        "| ----- | --------------- | \n",
        "| 1     | 1939 or earlier |\n",
        "| 2     | 1940 to 1949    |\n",
        "| 3     | 1950 to 1959    |\n",
        "| 4     | 1960 to 1969    |\n",
        "| 5     | 1970 to 1979    |\n",
        "| 6     | 1980 to 1989    |\n",
        "| 7     | 1990 to 1999    |\n",
        "| 8     | 2000 to 2004    |\n",
        "| 9     | 2005            |\n",
        "| 10    | 2006            |\n",
        "| 11    | 2007            |\n",
        "| 12    | 2008            |\n",
        "| 13    | 2009            |\n",
        "| 14    | 2010            |\n",
        "| 15    | 2011            |\n",
        "| 16    | 2012            |\n",
        "| 17    | 2013            |\n",
        "| 18    | 2014            |\n",
        "| 19    | 2015            |\n",
        "| 20    | 2016            |\n",
        "| 21    | 2017            |\n",
        "| 22    | 2018            |\n",
        "\n",
        "Despite the fact the numeric codes increase by 1 each time, early codes represent multiple years, including up to an entire decade of construction.\n",
        "However, later codes represent a single year. \n",
        "\n",
        "## Cumulative Proportions\n",
        "\n",
        "Despite the fact that the ordinal variables are not strictly numeric, we can still use them to gauge how recently dwelling structures\n",
        "have been built. We can do this by using the `cumsum` function after ordering the values.\n",
        "\n",
        "We're also going to do a little bit of cleaning to make our lives easier."
      ]
    },
    {
      "cell_type": "code",
      "execution_count": 4,
      "metadata": {},
      "outputs": [],
      "source": [
        "data_labels = {\n",
        "    1: \"1939 or earlier\",\n",
        "    2: \"1940 to 1949\",\n",
        "    3: \"1950 to 1959\",\n",
        "    4: \"1960 to 1969\",\n",
        "    5: \"1970 to 1979\",\n",
        "    6: \"1980 to 1989\",\n",
        "    7: \"1990 to 1999\",\n",
        "    8: \"2000 to 2004\",\n",
        "    9: \"2005\",\n",
        "    10: \"2006\",\n",
        "    11: \"2007\",\n",
        "    12: \"2008\",\n",
        "    13: \"2009\",\n",
        "    14: \"2010\",\n",
        "    15: \"2011\",\n",
        "    16: \"2012\",\n",
        "    17: \"2013\",\n",
        "    18: \"2014\",\n",
        "    19: \"2015\",\n",
        "    20: \"2016\",\n",
        "    21: \"2017\",\n",
        "    22: \"2018\",\n",
        "}"
      ]
    },
    {
      "cell_type": "code",
      "execution_count": 5,
      "metadata": {},
      "outputs": [
        {
          "data": {
            "text/html": [
              "<div>\n",
              "<style scoped>\n",
              "    .dataframe tbody tr th:only-of-type {\n",
              "        vertical-align: middle;\n",
              "    }\n",
              "\n",
              "    .dataframe tbody tr th {\n",
              "        vertical-align: top;\n",
              "    }\n",
              "\n",
              "    .dataframe thead th {\n",
              "        text-align: right;\n",
              "    }\n",
              "</style>\n",
              "<table border=\"1\" class=\"dataframe\">\n",
              "  <thead>\n",
              "    <tr style=\"text-align: right;\">\n",
              "      <th></th>\n",
              "      <th>count</th>\n",
              "      <th>proportion</th>\n",
              "    </tr>\n",
              "    <tr>\n",
              "      <th>YBL</th>\n",
              "      <th></th>\n",
              "      <th></th>\n",
              "    </tr>\n",
              "  </thead>\n",
              "  <tbody>\n",
              "    <tr>\n",
              "      <th>1939 or earlier</th>\n",
              "      <td>36705</td>\n",
              "      <td>0.132685</td>\n",
              "    </tr>\n",
              "    <tr>\n",
              "      <th>1940 to 1949</th>\n",
              "      <td>13967</td>\n",
              "      <td>0.050489</td>\n",
              "    </tr>\n",
              "    <tr>\n",
              "      <th>1950 to 1959</th>\n",
              "      <td>29428</td>\n",
              "      <td>0.106380</td>\n",
              "    </tr>\n",
              "    <tr>\n",
              "      <th>1960 to 1969</th>\n",
              "      <td>29583</td>\n",
              "      <td>0.106940</td>\n",
              "    </tr>\n",
              "    <tr>\n",
              "      <th>1970 to 1979</th>\n",
              "      <td>42379</td>\n",
              "      <td>0.153196</td>\n",
              "    </tr>\n",
              "    <tr>\n",
              "      <th>1980 to 1989</th>\n",
              "      <td>36754</td>\n",
              "      <td>0.132862</td>\n",
              "    </tr>\n",
              "    <tr>\n",
              "      <th>1990 to 1999</th>\n",
              "      <td>37938</td>\n",
              "      <td>0.137142</td>\n",
              "    </tr>\n",
              "    <tr>\n",
              "      <th>2000 to 2004</th>\n",
              "      <td>18558</td>\n",
              "      <td>0.067086</td>\n",
              "    </tr>\n",
              "    <tr>\n",
              "      <th>2005</th>\n",
              "      <td>4411</td>\n",
              "      <td>0.015945</td>\n",
              "    </tr>\n",
              "    <tr>\n",
              "      <th>2006</th>\n",
              "      <td>4011</td>\n",
              "      <td>0.014499</td>\n",
              "    </tr>\n",
              "    <tr>\n",
              "      <th>2007</th>\n",
              "      <td>3372</td>\n",
              "      <td>0.012189</td>\n",
              "    </tr>\n",
              "    <tr>\n",
              "      <th>2008</th>\n",
              "      <td>3138</td>\n",
              "      <td>0.011344</td>\n",
              "    </tr>\n",
              "    <tr>\n",
              "      <th>2009</th>\n",
              "      <td>1670</td>\n",
              "      <td>0.006037</td>\n",
              "    </tr>\n",
              "    <tr>\n",
              "      <th>2010</th>\n",
              "      <td>2170</td>\n",
              "      <td>0.007844</td>\n",
              "    </tr>\n",
              "    <tr>\n",
              "      <th>2011</th>\n",
              "      <td>1173</td>\n",
              "      <td>0.004240</td>\n",
              "    </tr>\n",
              "    <tr>\n",
              "      <th>2012</th>\n",
              "      <td>1543</td>\n",
              "      <td>0.005578</td>\n",
              "    </tr>\n",
              "    <tr>\n",
              "      <th>2013</th>\n",
              "      <td>1661</td>\n",
              "      <td>0.006004</td>\n",
              "    </tr>\n",
              "    <tr>\n",
              "      <th>2014</th>\n",
              "      <td>1987</td>\n",
              "      <td>0.007183</td>\n",
              "    </tr>\n",
              "    <tr>\n",
              "      <th>2015</th>\n",
              "      <td>2182</td>\n",
              "      <td>0.007888</td>\n",
              "    </tr>\n",
              "    <tr>\n",
              "      <th>2016</th>\n",
              "      <td>2137</td>\n",
              "      <td>0.007725</td>\n",
              "    </tr>\n",
              "    <tr>\n",
              "      <th>2017</th>\n",
              "      <td>1428</td>\n",
              "      <td>0.005162</td>\n",
              "    </tr>\n",
              "    <tr>\n",
              "      <th>2018</th>\n",
              "      <td>437</td>\n",
              "      <td>0.001580</td>\n",
              "    </tr>\n",
              "  </tbody>\n",
              "</table>\n",
              "</div>"
            ],
            "text/plain": [
              "                 count  proportion\n",
              "YBL                               \n",
              "1939 or earlier  36705    0.132685\n",
              "1940 to 1949     13967    0.050489\n",
              "1950 to 1959     29428    0.106380\n",
              "1960 to 1969     29583    0.106940\n",
              "1970 to 1979     42379    0.153196\n",
              "1980 to 1989     36754    0.132862\n",
              "1990 to 1999     37938    0.137142\n",
              "2000 to 2004     18558    0.067086\n",
              "2005              4411    0.015945\n",
              "2006              4011    0.014499\n",
              "2007              3372    0.012189\n",
              "2008              3138    0.011344\n",
              "2009              1670    0.006037\n",
              "2010              2170    0.007844\n",
              "2011              1173    0.004240\n",
              "2012              1543    0.005578\n",
              "2013              1661    0.006004\n",
              "2014              1987    0.007183\n",
              "2015              2182    0.007888\n",
              "2016              2137    0.007725\n",
              "2017              1428    0.005162\n",
              "2018               437    0.001580"
            ]
          },
          "execution_count": 5,
          "metadata": {},
          "output_type": "execute_result"
        }
      ],
      "source": [
        "sorted_counts = pd.concat([\n",
        "    df[\"YBL\"].value_counts(),\n",
        "    df[\"YBL\"].value_counts(normalize=True)\n",
        "], axis=1).sort_index().rename(index=data_labels)\n",
        "sorted_counts"
      ]
    },
    {
      "cell_type": "markdown",
      "metadata": {},
      "source": [
        "We now have the human readable labels along with our counts, as well as the percentage of dwellings in each category.\n",
        "\n",
        "Already, we see some interesting information. For example, roughly 13% of ACS respondents live in a house that was built prior to 1939! \n",
        "To get a cumulative look at the data, however, we need to use the `cumsum` function that we saw in lecture."
      ]
    },
    {
      "cell_type": "code",
      "execution_count": 6,
      "metadata": {},
      "outputs": [
        {
          "data": {
            "text/html": [
              "<div>\n",
              "<style scoped>\n",
              "    .dataframe tbody tr th:only-of-type {\n",
              "        vertical-align: middle;\n",
              "    }\n",
              "\n",
              "    .dataframe tbody tr th {\n",
              "        vertical-align: top;\n",
              "    }\n",
              "\n",
              "    .dataframe thead th {\n",
              "        text-align: right;\n",
              "    }\n",
              "</style>\n",
              "<table border=\"1\" class=\"dataframe\">\n",
              "  <thead>\n",
              "    <tr style=\"text-align: right;\">\n",
              "      <th></th>\n",
              "      <th>count</th>\n",
              "      <th>proportion</th>\n",
              "    </tr>\n",
              "    <tr>\n",
              "      <th>YBL</th>\n",
              "      <th></th>\n",
              "      <th></th>\n",
              "    </tr>\n",
              "  </thead>\n",
              "  <tbody>\n",
              "    <tr>\n",
              "      <th>1939 or earlier</th>\n",
              "      <td>36705</td>\n",
              "      <td>0.132685</td>\n",
              "    </tr>\n",
              "    <tr>\n",
              "      <th>1940 to 1949</th>\n",
              "      <td>50672</td>\n",
              "      <td>0.183175</td>\n",
              "    </tr>\n",
              "    <tr>\n",
              "      <th>1950 to 1959</th>\n",
              "      <td>80100</td>\n",
              "      <td>0.289554</td>\n",
              "    </tr>\n",
              "    <tr>\n",
              "      <th>1960 to 1969</th>\n",
              "      <td>109683</td>\n",
              "      <td>0.396494</td>\n",
              "    </tr>\n",
              "    <tr>\n",
              "      <th>1970 to 1979</th>\n",
              "      <td>152062</td>\n",
              "      <td>0.549691</td>\n",
              "    </tr>\n",
              "    <tr>\n",
              "      <th>1980 to 1989</th>\n",
              "      <td>188816</td>\n",
              "      <td>0.682553</td>\n",
              "    </tr>\n",
              "    <tr>\n",
              "      <th>1990 to 1999</th>\n",
              "      <td>226754</td>\n",
              "      <td>0.819695</td>\n",
              "    </tr>\n",
              "    <tr>\n",
              "      <th>2000 to 2004</th>\n",
              "      <td>245312</td>\n",
              "      <td>0.886781</td>\n",
              "    </tr>\n",
              "    <tr>\n",
              "      <th>2005</th>\n",
              "      <td>249723</td>\n",
              "      <td>0.902726</td>\n",
              "    </tr>\n",
              "    <tr>\n",
              "      <th>2006</th>\n",
              "      <td>253734</td>\n",
              "      <td>0.917226</td>\n",
              "    </tr>\n",
              "    <tr>\n",
              "      <th>2007</th>\n",
              "      <td>257106</td>\n",
              "      <td>0.929415</td>\n",
              "    </tr>\n",
              "    <tr>\n",
              "      <th>2008</th>\n",
              "      <td>260244</td>\n",
              "      <td>0.940759</td>\n",
              "    </tr>\n",
              "    <tr>\n",
              "      <th>2009</th>\n",
              "      <td>261914</td>\n",
              "      <td>0.946796</td>\n",
              "    </tr>\n",
              "    <tr>\n",
              "      <th>2010</th>\n",
              "      <td>264084</td>\n",
              "      <td>0.954640</td>\n",
              "    </tr>\n",
              "    <tr>\n",
              "      <th>2011</th>\n",
              "      <td>265257</td>\n",
              "      <td>0.958880</td>\n",
              "    </tr>\n",
              "    <tr>\n",
              "      <th>2012</th>\n",
              "      <td>266800</td>\n",
              "      <td>0.964458</td>\n",
              "    </tr>\n",
              "    <tr>\n",
              "      <th>2013</th>\n",
              "      <td>268461</td>\n",
              "      <td>0.970463</td>\n",
              "    </tr>\n",
              "    <tr>\n",
              "      <th>2014</th>\n",
              "      <td>270448</td>\n",
              "      <td>0.977645</td>\n",
              "    </tr>\n",
              "    <tr>\n",
              "      <th>2015</th>\n",
              "      <td>272630</td>\n",
              "      <td>0.985533</td>\n",
              "    </tr>\n",
              "    <tr>\n",
              "      <th>2016</th>\n",
              "      <td>274767</td>\n",
              "      <td>0.993258</td>\n",
              "    </tr>\n",
              "    <tr>\n",
              "      <th>2017</th>\n",
              "      <td>276195</td>\n",
              "      <td>0.998420</td>\n",
              "    </tr>\n",
              "    <tr>\n",
              "      <th>2018</th>\n",
              "      <td>276632</td>\n",
              "      <td>1.000000</td>\n",
              "    </tr>\n",
              "  </tbody>\n",
              "</table>\n",
              "</div>"
            ],
            "text/plain": [
              "                  count  proportion\n",
              "YBL                                \n",
              "1939 or earlier   36705    0.132685\n",
              "1940 to 1949      50672    0.183175\n",
              "1950 to 1959      80100    0.289554\n",
              "1960 to 1969     109683    0.396494\n",
              "1970 to 1979     152062    0.549691\n",
              "1980 to 1989     188816    0.682553\n",
              "1990 to 1999     226754    0.819695\n",
              "2000 to 2004     245312    0.886781\n",
              "2005             249723    0.902726\n",
              "2006             253734    0.917226\n",
              "2007             257106    0.929415\n",
              "2008             260244    0.940759\n",
              "2009             261914    0.946796\n",
              "2010             264084    0.954640\n",
              "2011             265257    0.958880\n",
              "2012             266800    0.964458\n",
              "2013             268461    0.970463\n",
              "2014             270448    0.977645\n",
              "2015             272630    0.985533\n",
              "2016             274767    0.993258\n",
              "2017             276195    0.998420\n",
              "2018             276632    1.000000"
            ]
          },
          "execution_count": 6,
          "metadata": {},
          "output_type": "execute_result"
        }
      ],
      "source": [
        "sorted_counts.cumsum()"
      ]
    },
    {
      "cell_type": "markdown",
      "metadata": {},
      "source": [
        "Use this table to answer the following questions:\n",
        "\n",
        "1. What percentage of dwellings were built **prior** to 2008?\n",
        "2. Is it possible to accurately say What percentage of dwellings were built **before** 1995? Why or why not?\n",
        "\n",
        "Next, let's see how to this without the preconstructed table.\n",
        "Suppose we ask the same questions, 1 and 2. How could we solve without the cumulative sum?"
      ]
    },
    {
      "cell_type": "code",
      "execution_count": 7,
      "metadata": {},
      "outputs": [
        {
          "data": {
            "text/plain": [
              "np.float64(0.9294152520315798)"
            ]
          },
          "execution_count": 7,
          "metadata": {},
          "output_type": "execute_result"
        }
      ],
      "source": [
        "(df[\"YBL\"] < 12).mean()"
      ]
    },
    {
      "cell_type": "markdown",
      "metadata": {},
      "source": [
        "We used `12` as the value because that group corresponds to 2008 (hint: you need to check the `data_labels` object we constructed from the codebook!). We then\n",
        "take the mean, since for boolean (true/false) values, this is equivalent\n",
        "to finding the proportion that satisfy our condition. The key here is to remember to tie your \n",
        "ordinal group with the correct index in the `data_labels` dictionary.\n",
        "\n",
        "Cumulative proportions have a very important property - the maximum value is **always 1.** This is because **proportions are always between 0 and 1**. \n",
        "Try finding the percentage of dwelllings built before the year 2000, and check your answer against the table above. Remember, if you get a number less\n",
        "than 0 or greater than 1, we know the answer is incorrect.\n"
      ]
    },
    {
      "cell_type": "markdown",
      "metadata": {},
      "source": [
        "<details>\n",
        "\n",
        "```\n",
        "(df[\"YBL\"] <= 7).mean()\n",
        "```\n",
        "\n",
        "</details>\n",
        "\n",
        "Now try finding the opposite - the percentage of dwellings built after and including 2008. Hint: the opposite of \">\" is \"<=\"."
      ]
    },
    {
      "cell_type": "markdown",
      "metadata": {},
      "source": [
        "<details>\n",
        "\n",
        "```\n",
        "(df[\"YBL\"] > 7).mean()\n",
        "\n",
        "# also \n",
        "(df[\"YBL\"] >= 8).mean()\n",
        "\n",
        "# and also\n",
        "1 - (df[\"YBL\"] <= 7).mean()\n",
        "```\n",
        "\n",
        "</details>\n",
        "\n",
        "## Boxplots and histograms\n",
        "\n",
        "A boxplot is a way to visualize a distribution. Below we create a boxplot for the household income variable in the ACS."
      ]
    },
    {
      "cell_type": "code",
      "execution_count": 8,
      "metadata": {},
      "outputs": [
        {
          "data": {
            "text/plain": [
              "<Axes: xlabel='HINCP'>"
            ]
          },
          "execution_count": 8,
          "metadata": {},
          "output_type": "execute_result"
        },
        {
          "data": {
            "image/png": "[encoded data removed]",
            "text/plain": [
              "<Figure size 640x480 with 1 Axes>"
            ]
          },
          "metadata": {},
          "output_type": "display_data"
        }
      ],
      "source": [
        "sb.boxplot(x = \"HINCP\", data = df)"
      ]
    },
    {
      "cell_type": "markdown",
      "metadata": {},
      "source": [
        "The data are very skewed, which is a common property of income data.  Skew is not a bad thing, but it is an important characteristic of the data to be aware of.\n",
        "\n",
        "Let's zoom in on the box:"
      ]
    },
    {
      "cell_type": "code",
      "execution_count": 9,
      "metadata": {},
      "outputs": [
        {
          "data": {
            "text/plain": [
              "<Axes: xlabel='HINCP'>"
            ]
          },
          "execution_count": 9,
          "metadata": {},
          "output_type": "execute_result"
        },
        {
          "data": {
            "image/png": "[encoded data removed]",
            "text/plain": [
              "<Figure size 640x480 with 1 Axes>"
            ]
          },
          "metadata": {},
          "output_type": "display_data"
        }
      ],
      "source": [
        "sb.boxplot(x = \"HINCP\", showfliers = False, data=df)"
      ]
    },
    {
      "cell_type": "markdown",
      "metadata": {},
      "source": [
        "Use the box plot above to describe the **central tendancy** (middle of the data) and **spread** (how tighly clustered are the data around the middle) and **skew** (the amount of spread on each side of the central tendency)\n",
        "of household income in this data set.\n",
        "\n",
        "*Double click to edit*\n",
        "\n",
        "Create a boxplot for the `NP` variable. Describe the central tendency, spread, and skew."
      ]
    },
    {
      "cell_type": "markdown",
      "metadata": {},
      "source": [
        "<details>\n",
        "\n",
        "```\n",
        "sb.boxplot(data = df, x = \"NP\")\n",
        "```\n",
        "\n",
        "</details>\n",
        "\n",
        "A histogram is another way to visualize a distribution. It requires more data to produce an accurate histogram than it does to produce an accurate boxplot, but in this case we have plenty of data so either approach is useful.  There are various ways to decide how many bins to use when creating a histogram.  Here we set this value manually to have 20 bins."
      ]
    },
    {
      "cell_type": "code",
      "execution_count": 10,
      "metadata": {},
      "outputs": [
        {
          "data": {
            "text/plain": [
              "<Axes: xlabel='HINCP', ylabel='Count'>"
            ]
          },
          "execution_count": 10,
          "metadata": {},
          "output_type": "execute_result"
        },
        {
          "data": {
            "image/png": "[encoded data removed]",
            "text/plain": [
              "<Figure size 640x480 with 1 Axes>"
            ]
          },
          "metadata": {},
          "output_type": "display_data"
        }
      ],
      "source": [
        "sb.histplot(data = df, x = \"HINCP\", bins = 20)"
      ]
    },
    {
      "cell_type": "markdown",
      "metadata": {},
      "source": [
        "Create a histogram with 100 bins. What changed in your plot? Which plot do your prefer?"
      ]
    },
    {
      "cell_type": "markdown",
      "metadata": {},
      "source": [
        "<details>\n",
        "\n",
        "```\n",
        "sb.histplot(data = df, x = \"HINCP\", bins = 100)\n",
        "```\n",
        "</details>\n",
        "\n",
        "In the above histograms we notice **strong right skew**. One way to tame skew is to a **logarithmic transformation**. A logarithm solves $b^c = a$ for $c$. We write $\\log_b(a) = c$. Here, we'll use $b = 2$. The `numpy` library has a function we can use to compute the base two logarithms.\n",
        "\n",
        "Let's log transform the data. Logs are not defined for non-postive values, so we will replace (or \"clip\") data below 1 to have the value 1."
      ]
    },
    {
      "cell_type": "code",
      "execution_count": 11,
      "metadata": {},
      "outputs": [],
      "source": [
        "df[\"logHINCP\"] = np.log2(df[\"HINCP\"].clip(1))"
      ]
    },
    {
      "cell_type": "markdown",
      "metadata": {},
      "source": [
        "Log transformations help tame skew. Skew isn't necessarily bad and is not something that always must be removed.  But in general it is easier to analyze data that has been transformed to reduce the skew.\n",
        "\n",
        "Create a box plot for the log transformed data."
      ]
    },
    {
      "cell_type": "markdown",
      "metadata": {},
      "source": [
        "<details>\n",
        "\n",
        "```\n",
        "sb.boxplot(data = df, x = \"logHINCP\")\n",
        "```\n",
        "\n",
        "</details>\n",
        "\n",
        "Now create a histogram of the log transformed income data. Use 100 bins. Write a few words describing the central tendency, spread and skew visible in this plot."
      ]
    },
    {
      "cell_type": "markdown",
      "metadata": {},
      "source": [
        "<details>\n",
        "\n",
        "```\n",
        "sb.histplot(data = df, x = \"logHINCP\", bins = 100)\n",
        "```\n",
        "\n",
        "</details>\n",
        "    \n",
        "In the plot we see the central tendency is around 15 to 17 (on the log base 2 dollar scale). Most observations fall in teh range 10 to 20. There is not much skew, but we do see a spike at 0 that represents the observations we clipped to 1. (Why is is $\\log_b(1) = 0$ for any $b$?)\n",
        "    \n",
        "\n",
        "\n",
        "## Cumulative Proportions \n",
        "\n",
        "Previously, we saw a cumulative distribution for ordinal variables. However,\n",
        "cumulative proportions can be created for continuous variables as well, and in exactly the same way.\n",
        "To demonstrate, let's look at income data again. What percentage of households had an\n",
        "income greater than $100,000?"
      ]
    },
    {
      "cell_type": "code",
      "execution_count": 12,
      "metadata": {},
      "outputs": [
        {
          "data": {
            "text/plain": [
              "np.float64(0.27117614737268286)"
            ]
          },
          "execution_count": 12,
          "metadata": {},
          "output_type": "execute_result"
        }
      ],
      "source": [
        "(df[\"HINCP\"] >= 100000).mean()"
      ]
    },
    {
      "cell_type": "markdown",
      "metadata": {},
      "source": [
        "What percentage of households had an income **between** $25,000 and $75,000?"
      ]
    },
    {
      "cell_type": "markdown",
      "metadata": {},
      "source": [
        "<details>\n",
        "\n",
        "```\n",
        "(df[\"HINCP\"].between(25000, 75000)).mean()\n",
        "# or \n",
        "((df[\"HINCP\"] >= 25000) & (df[\"HINCP\"] <= 75000)).mean()\n",
        "```\n",
        "\n",
        "</details>\n",
        "\n",
        "\n",
        "## Cumulative Proportions and Groups\n",
        "\n",
        "Some of the most interesting questions in data science arise from proportions and means within groups\n",
        "of interest. To review grouping, let's start with a simple  question: what's the average number of people in a household\n",
        "in each region? Try it on your own, and then check your answer below."
      ]
    },
    {
      "cell_type": "markdown",
      "metadata": {},
      "source": [
        "<details>\n",
        "\n",
        "```\n",
        "df.groupby(\"REGION\")[\"NP\"].mean()\n",
        "```\n",
        "\n",
        "</details>\n",
        "\n",
        "There is a small difference, but it may seem\n",
        "unclear whether this is the result is different enough\n",
        "to say that there is a real or practical difference across the regions. Keep this in mind - we're going to talk about this later in the course!\n",
        "\n",
        "For now though, after recalling how we do groupings, let's ask a new question: is the proportion of \n",
        "households with an income greater than $100,000 different across regions? This is a slightly different question, as it\n",
        "requires cumulative proportions within a region. With a bit \n",
        "of adjusted code, we can aswer this question."
      ]
    },
    {
      "cell_type": "code",
      "execution_count": 13,
      "metadata": {},
      "outputs": [
        {
          "name": "stdout",
          "output_type": "stream",
          "text": [
            "REGION\n",
            "Northeast    0.324334\n",
            "Midwest      0.234469\n",
            "South        0.240337\n",
            "West         0.318980\n",
            "Name: HINCP, dtype: float64\n"
          ]
        }
      ],
      "source": [
        "regions = {1: \"Northeast\", 2: \"Midwest\", 3: \"South\", 4: \"West\"}\n",
        "\n",
        "income_proportions = (\n",
        "    (df[\"HINCP\"] >= 100000) # create boolean values for income >= $100k/yr\n",
        "    .groupby(df[\"REGION\"])  # next, group by the region\n",
        "    .mean() # take the mean of the boolean values for each region\n",
        "    .rename(regions) # rename the regions to a human-readble names\n",
        ")\n",
        "print(income_proportions)"
      ]
    },
    {
      "cell_type": "markdown",
      "metadata": {},
      "source": [
        "Notice the differences with the grouping code from earlier,\n",
        "but this style still works. Here, we pass the grouping\n",
        "variable as an argument to the groupby method instead\n",
        "of calling it directly on the dataframe, but the results \n",
        "are the same.\n",
        "\n",
        "Writing the code for these styles of queries can be tricky, so feel free to ask CoPilot for help! \n",
        "\n",
        "When we run this, we see that the proportions are indeed different across the regions. Let's try another one: does the age of dwellings differ across regions? What proportions of dwellings were built BEFORE 1939 in each region?\n",
        "\n",
        "<details>\n",
        "\n",
        "```\n",
        "(\n",
        "    (df[\"YBL\"] == 1) \n",
        "    .groupby(df[\"REGION\"])  \n",
        "    .mean() \n",
        "    .rename(regions) \n",
        ")\n",
        "```\n",
        "\n",
        "</details>\n",
        "\n",
        "You should be a big difference between the Northeast and Midwest vs. the South and the West. Think about the history of the US - does the data match \n",
        "your intuition?\n",
        "\n",
        "Practice a bit on your own with cumulative proportions and grouping, and\n",
        "try to use variables we haven't explored yet. \n",
        "Feel free to look through the codebook to find a variable that interests you. If you stumble on the coding syntax,\n",
        "don't hesitate to ask for help! Pandas is a powerful tool, but it can be tricky to learn at first."
      ]
    }
  ],
  "metadata": {
    "kernelspec": {
      "display_name": "Python 3",
      "language": "python",
      "name": "python3"
    },
    "language_info": {
      "codemirror_mode": {
        "name": "ipython",
        "version": 3
      },
      "file_extension": ".py",
      "mimetype": "text/x-python",
      "name": "python",
      "nbconvert_exporter": "python",
      "pygments_lexer": "ipython3",
      "version": "3.12.1"
    }
  },
  "nbformat": 4,
  "nbformat_minor": 4
}
